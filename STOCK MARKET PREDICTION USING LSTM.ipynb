{
 "cells": [
  {
   "cell_type": "markdown",
   "id": "4cf4eb5c",
   "metadata": {},
   "source": [
    "# Importing libraries "
   ]
  },
  {
   "cell_type": "code",
   "execution_count": 2,
   "id": "82db76aa",
   "metadata": {},
   "outputs": [],
   "source": [
    "import numpy as np\n",
    "import pandas as pd\n",
    "import matplotlib.pyplot as plt\n",
    "from sklearn.preprocessing import MinMaxScaler\n",
    "from keras.models import Sequential\n",
    "from keras.layers import Dense, LSTM"
   ]
  },
  {
   "cell_type": "markdown",
   "id": "4f820eb2",
   "metadata": {},
   "source": [
    "# Load the stock market dataset"
   ]
  },
  {
   "cell_type": "code",
   "execution_count": 3,
   "id": "28caf8d3",
   "metadata": {},
   "outputs": [],
   "source": [
    "df = pd.read_csv('stock_data.csv')"
   ]
  },
  {
   "cell_type": "markdown",
   "id": "1d574eee",
   "metadata": {},
   "source": [
    "# Extract the 'Close' prices from the dataset"
   ]
  },
  {
   "cell_type": "code",
   "execution_count": 4,
   "id": "51f40379",
   "metadata": {},
   "outputs": [],
   "source": [
    "data = df.filter(['Close']).values"
   ]
  },
  {
   "cell_type": "markdown",
   "id": "9170bd28",
   "metadata": {},
   "source": [
    "# Scale the data"
   ]
  },
  {
   "cell_type": "code",
   "execution_count": 5,
   "id": "03426987",
   "metadata": {},
   "outputs": [],
   "source": [
    "scaler = MinMaxScaler(feature_range=(0, 1))\n",
    "scaled_data = scaler.fit_transform(data)"
   ]
  },
  {
   "cell_type": "markdown",
   "id": "79b67173",
   "metadata": {},
   "source": [
    "# Split the data into training and testing sets"
   ]
  },
  {
   "cell_type": "code",
   "execution_count": 6,
   "id": "7882b8b1",
   "metadata": {},
   "outputs": [],
   "source": [
    "train_data = scaled_data[:int(len(data) * 0.8)]\n",
    "test_data = scaled_data[int(len(data) * 0.8):]"
   ]
  },
  {
   "cell_type": "markdown",
   "id": "16d032db",
   "metadata": {},
   "source": [
    "# Define a function to create the dataset"
   ]
  },
  {
   "cell_type": "code",
   "execution_count": 7,
   "id": "b0515197",
   "metadata": {},
   "outputs": [],
   "source": [
    "def create_dataset(dataset, time_steps=1):\n",
    "    X, y = [], []\n",
    "    for i in range(len(dataset) - time_steps - 1):\n",
    "        X.append(dataset[i:(i + time_steps), 0])\n",
    "        y.append(dataset[i + time_steps, 0])\n",
    "    return np.array(X), np.array(y)"
   ]
  },
  {
   "cell_type": "markdown",
   "id": "ed7630e7",
   "metadata": {},
   "source": [
    "# Set the time step value"
   ]
  },
  {
   "cell_type": "code",
   "execution_count": 8,
   "id": "949b322e",
   "metadata": {},
   "outputs": [],
   "source": [
    "time_steps = 60"
   ]
  },
  {
   "cell_type": "markdown",
   "id": "28d42337",
   "metadata": {},
   "source": [
    "# Create the training and testing datasets"
   ]
  },
  {
   "cell_type": "code",
   "execution_count": 9,
   "id": "44cbc96c",
   "metadata": {},
   "outputs": [],
   "source": [
    "X_train, y_train = create_dataset(train_data, time_steps)\n",
    "X_test, y_test = create_dataset(test_data, time_steps)"
   ]
  },
  {
   "cell_type": "markdown",
   "id": "4cf9f9c8",
   "metadata": {},
   "source": [
    "# Reshape the input data to be 3D for LSTM"
   ]
  },
  {
   "cell_type": "code",
   "execution_count": 10,
   "id": "1ccdd077",
   "metadata": {},
   "outputs": [],
   "source": [
    "X_train = np.reshape(X_train, (X_train.shape[0], X_train.shape[1], 1))\n",
    "X_test = np.reshape(X_test, (X_test.shape[0], X_test.shape[1], 1))"
   ]
  },
  {
   "cell_type": "markdown",
   "id": "3d999aaf",
   "metadata": {},
   "source": [
    "# Build the Stacked LSTM model"
   ]
  },
  {
   "cell_type": "code",
   "execution_count": 11,
   "id": "c9aca7d8",
   "metadata": {},
   "outputs": [],
   "source": [
    "model = Sequential()\n",
    "model.add(LSTM(50, return_sequences=True, input_shape=(time_steps, 1)))\n",
    "model.add(LSTM(50, return_sequences=False))\n",
    "model.add(Dense(25))\n",
    "model.add(Dense(1))"
   ]
  },
  {
   "cell_type": "markdown",
   "id": "f5a8b1ce",
   "metadata": {},
   "source": [
    "# Compile and train the model"
   ]
  },
  {
   "cell_type": "code",
   "execution_count": 12,
   "id": "0ee0bb27",
   "metadata": {},
   "outputs": [
    {
     "name": "stdout",
     "output_type": "stream",
     "text": [
      "Epoch 1/10\n",
      "148/148 [==============================] - 11s 37ms/step - loss: 0.0022\n",
      "Epoch 2/10\n",
      "148/148 [==============================] - 5s 35ms/step - loss: 4.0265e-04\n",
      "Epoch 3/10\n",
      "148/148 [==============================] - 5s 36ms/step - loss: 3.9707e-04\n",
      "Epoch 4/10\n",
      "148/148 [==============================] - 6s 37ms/step - loss: 3.0799e-04\n",
      "Epoch 5/10\n",
      "148/148 [==============================] - 5s 34ms/step - loss: 2.8968e-04\n",
      "Epoch 6/10\n",
      "148/148 [==============================] - 5s 35ms/step - loss: 2.7842e-04\n",
      "Epoch 7/10\n",
      "148/148 [==============================] - 5s 35ms/step - loss: 2.3584e-04\n",
      "Epoch 8/10\n",
      "148/148 [==============================] - 6s 40ms/step - loss: 2.2277e-04\n",
      "Epoch 9/10\n",
      "148/148 [==============================] - 6s 40ms/step - loss: 2.3465e-04\n",
      "Epoch 10/10\n",
      "148/148 [==============================] - 5s 34ms/step - loss: 1.9741e-04\n"
     ]
    },
    {
     "data": {
      "text/plain": [
       "<keras.callbacks.History at 0x1374a45ed90>"
      ]
     },
     "execution_count": 12,
     "metadata": {},
     "output_type": "execute_result"
    }
   ],
   "source": [
    "model.compile(optimizer='adam', loss='mean_squared_error')\n",
    "model.fit(X_train, y_train, epochs=10, batch_size=16)"
   ]
  },
  {
   "cell_type": "markdown",
   "id": "d93ad446",
   "metadata": {},
   "source": [
    "# Make predictions on the testing data"
   ]
  },
  {
   "cell_type": "code",
   "execution_count": 13,
   "id": "cb7c1f1a",
   "metadata": {},
   "outputs": [
    {
     "name": "stdout",
     "output_type": "stream",
     "text": [
      "17/17 [==============================] - 1s 16ms/step\n"
     ]
    }
   ],
   "source": [
    "predictions = model.predict(X_test)\n",
    "predictions = scaler.inverse_transform(predictions)"
   ]
  },
  {
   "cell_type": "markdown",
   "id": "eb7d9af6",
   "metadata": {},
   "source": [
    "# valuate the model"
   ]
  },
  {
   "cell_type": "code",
   "execution_count": 14,
   "id": "c8070de5",
   "metadata": {},
   "outputs": [
    {
     "name": "stdout",
     "output_type": "stream",
     "text": [
      "Root Mean Squared Error (RMSE): 45.903920801379186\n"
     ]
    }
   ],
   "source": [
    "rmse = np.sqrt(np.mean((predictions - y_test) ** 2))\n",
    "print('Root Mean Squared Error (RMSE):', rmse)"
   ]
  },
  {
   "cell_type": "markdown",
   "id": "d697757d",
   "metadata": {},
   "source": [
    "# Plot the predicted and actual prices"
   ]
  },
  {
   "cell_type": "code",
   "execution_count": 15,
   "id": "52ed88d3",
   "metadata": {},
   "outputs": [
    {
     "data": {
      "image/png": "[encoded data removed]",
      "text/plain": [
       "<Figure size 432x288 with 1 Axes>"
      ]
     },
     "metadata": {
      "needs_background": "light"
     },
     "output_type": "display_data"
    }
   ],
   "source": [
    "plt.plot(y_test, label='Actual Price')\n",
    "plt.plot(predictions, label='Predicted Price')\n",
    "plt.xlabel('Time')\n",
    "plt.ylabel('Stock Price')\n",
    "plt.title('Stock Market Prediction using Stacked LSTM')\n",
    "plt.legend()\n",
    "plt.show()"
   ]
  }
 ],
 "metadata": {
  "kernelspec": {
   "display_name": "Python 3 (ipykernel)",
   "language": "python",
   "name": "python3"
  },
  "language_info": {
   "codemirror_mode": {
    "name": "ipython",
    "version": 3
   },
   "file_extension": ".py",
   "mimetype": "text/x-python",
   "name": "python",
   "nbconvert_exporter": "python",
   "pygments_lexer": "ipython3",
   "version": "3.9.12"
  }
 },
 "nbformat": 4,
 "nbformat_minor": 5
}
